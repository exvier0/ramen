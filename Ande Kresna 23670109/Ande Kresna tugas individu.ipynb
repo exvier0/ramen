{
 "cells": [
  {
   "cell_type": "code",
   "execution_count": 1,
   "metadata": {},
   "outputs": [
    {
     "name": "stdout",
     "output_type": "stream",
     "text": [
      "8\n"
     ]
    }
   ],
   "source": [
    "def knapsack_backtracking(weights, values, capacity):\n",
    "    n = len(weights)\n",
    "\n",
    "    def backtrack(index, current_weight, current_value):\n",
    "        if index == n or current_weight > capacity:\n",
    "            return current_value if current_weight <= capacity else 0\n",
    "        \n",
    "        # Pilih atau tidak pilih barang ke-i\n",
    "        include = backtrack(index + 1, current_weight + weights[index], current_value + values[index])\n",
    "        exclude = backtrack(index + 1, current_weight, current_value)\n",
    "        return max(include, exclude)\n",
    "\n",
    "    return backtrack(0, 0, 0)\n",
    "\n",
    "# Contoh penggunaan\n",
    "weights = [2, 3, 4, 10]\n",
    "values = [3, 4, 5, 8]\n",
    "capacity = 6\n",
    "print(knapsack_backtracking(weights, values, capacity))\n"
   ]
  },
  {
   "cell_type": "markdown",
   "metadata": {},
   "source": [
    "Penjelasan:\n",
    "\n",
    "- Ide Utama: Eksplorasi semua kombinasi barang yang mungkin untuk dimasukkan ke dalam ransel.\n",
    "- Proses Kerja:\n",
    "  1. Rekursif memeriksa setiap barang, dengan dua pilihan:\n",
    "  - Pilih barang: Tambahkan berat dan nilai barang tersebut.\n",
    "  - Tidak pilih barang: Lanjutkan ke barang berikutnya tanpa menambah berat atau nilai.\n",
    "  2. Ketika suatu kombinasi barang melampaui kapasitas, algoritma berhenti menjelajahi cabang tersebut (pruning).\n",
    "  3. Nilai maksimum dicatat sepanjang proses.\n",
    "- Kelebihan: Dapat menemukan solusi optimal.\n",
    "- Kekurangan: Lambat untuk input besar karena kompleksitas eksponensial."
   ]
  },
  {
   "cell_type": "code",
   "execution_count": 2,
   "metadata": {},
   "outputs": [
    {
     "name": "stdout",
     "output_type": "stream",
     "text": [
      "8\n"
     ]
    }
   ],
   "source": [
    "import heapq\n",
    "\n",
    "class Node:\n",
    "    def __init__(self, level, value, weight, bound):\n",
    "        self.level = level\n",
    "        self.value = value\n",
    "        self.weight = weight\n",
    "        self.bound = bound\n",
    "\n",
    "    def __lt__(self, other):\n",
    "        return self.bound > other.bound  # Max heap (by bound)\n",
    "\n",
    "def knapsack_branch_and_bound(weights, values, capacity):\n",
    "    def bound(node):\n",
    "        if node.weight >= capacity:\n",
    "            return 0\n",
    "        profit_bound = node.value\n",
    "        total_weight = node.weight\n",
    "        for i in range(node.level + 1, len(weights)):\n",
    "            if total_weight + weights[i] <= capacity:\n",
    "                total_weight += weights[i]\n",
    "                profit_bound += values[i]\n",
    "            else:\n",
    "                profit_bound += (capacity - total_weight) * (values[i] / weights[i])\n",
    "                break\n",
    "        return profit_bound\n",
    "\n",
    "    n = len(weights)\n",
    "    queue = []\n",
    "    root = Node(-1, 0, 0, 0)\n",
    "    root.bound = bound(root)\n",
    "    heapq.heappush(queue, root)\n",
    "    max_value = 0\n",
    "\n",
    "    while queue:\n",
    "        current = heapq.heappop(queue)\n",
    "        if current.bound > max_value:\n",
    "            next_level = current.level + 1\n",
    "\n",
    "            # Pilih barang\n",
    "            if next_level < n:\n",
    "                left = Node(next_level, current.value + values[next_level],\n",
    "                            current.weight + weights[next_level], 0)\n",
    "                if left.weight <= capacity:\n",
    "                    max_value = max(max_value, left.value)\n",
    "                left.bound = bound(left)\n",
    "                if left.bound > max_value:\n",
    "                    heapq.heappush(queue, left)\n",
    "\n",
    "            # Tidak pilih barang\n",
    "            right = Node(next_level, current.value, current.weight, 0)\n",
    "            right.bound = bound(right)\n",
    "            if right.bound > max_value:\n",
    "                heapq.heappush(queue, right)\n",
    "\n",
    "    return max_value\n",
    "\n",
    "# Contoh penggunaan\n",
    "weights = [2, 3, 4, 10]\n",
    "values = [3, 4, 5, 8]\n",
    "capacity = 6\n",
    "print(knapsack_branch_and_bound(weights, values, capacity))\n"
   ]
  },
  {
   "cell_type": "markdown",
   "metadata": {},
   "source": [
    "Penjelasan:\n",
    "\n",
    "- Ide Utama: Menggunakan bound (batas maksimum keuntungan yang bisa diperoleh dari simpul tertentu) untuk memangkas cabang yang tidak mungkin menghasilkan solusi optimal.\n",
    "- Proses Kerja:\n",
    "- Bounding: Setiap simpul pohon dihitung bound-nya, yaitu estimasi nilai maksimum yang bisa diperoleh dari simpul tersebut.\n",
    "- Jika bound suatu simpul lebih kecil dari nilai maksimum yang sudah ditemukan, maka cabang tersebut tidak dieksplorasi lebih lanjut (pruning).\n",
    "- Algoritma menggunakan priority queue untuk memprioritaskan simpul dengan bound tertinggi.\n",
    "- Kelebihan: Lebih cepat dibanding backtracking karena memanfaatkan teknik pemangkasan.\n",
    "- Kekurangan: Kompleksitas masih tinggi untuk kasus besar."
   ]
  },
  {
   "cell_type": "code",
   "execution_count": 3,
   "metadata": {},
   "outputs": [
    {
     "name": "stdout",
     "output_type": "stream",
     "text": [
      "8.25\n"
     ]
    }
   ],
   "source": [
    "def knapsack_greedy(weights, values, capacity):\n",
    "    n = len(weights)\n",
    "    items = sorted([(values[i] / weights[i], weights[i], values[i]) for i in range(n)], reverse=True)\n",
    "\n",
    "    total_value = 0\n",
    "    for ratio, weight, value in items:\n",
    "        if capacity >= weight:\n",
    "            capacity -= weight\n",
    "            total_value += value\n",
    "        else:\n",
    "            total_value += ratio * capacity\n",
    "            break\n",
    "\n",
    "    return total_value\n",
    "\n",
    "# Contoh penggunaan\n",
    "weights = [2, 3, 4, 10]\n",
    "values = [3, 4, 5, 8]\n",
    "capacity = 6\n",
    "print(knapsack_greedy(weights, values, capacity))\n"
   ]
  },
  {
   "cell_type": "markdown",
   "metadata": {},
   "source": [
    "Penjelasan:\n",
    "\n",
    "- Ide Utama: Pilih barang berdasarkan rasio nilai per berat tertinggi (value-to-weight ratio).\n",
    "- Proses Kerja:\n",
    "- Barang diurutkan berdasarkan rasio nilai per berat.\n",
    "- Mulai dari barang dengan rasio tertinggi, tambahkan ke ransel hingga kapasitas penuh.\n",
    "- Jika kapasitas tersisa tidak mencukupi untuk barang berikutnya, tambahkan sebagian barang (jika diperbolehkan).\n",
    "- Kelebihan: Sangat cepat, kompleksitas rendah (O(n log n) karena pengurutan).\n",
    "- Kekurangan: Tidak selalu menghasilkan solusi optimal untuk semua kasus (hanya optimal untuk masalah tertentu, seperti fractional knapsack)."
   ]
  }
 ],
 "metadata": {
  "kernelspec": {
   "display_name": "Python 3",
   "language": "python",
   "name": "python3"
  },
  "language_info": {
   "codemirror_mode": {
    "name": "ipython",
    "version": 3
   },
   "file_extension": ".py",
   "mimetype": "text/x-python",
   "name": "python",
   "nbconvert_exporter": "python",
   "pygments_lexer": "ipython3",
   "version": "3.12.0"
  }
 },
 "nbformat": 4,
 "nbformat_minor": 2
}
